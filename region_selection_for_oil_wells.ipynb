{
 "cells": [
  {
   "cell_type": "markdown",
   "metadata": {
    "pycharm": {
     "name": "#%% md\n"
    }
   },
   "source": [
    "# Выбор локации для скважины"
   ]
  },
  {
   "cell_type": "markdown",
   "metadata": {
    "pycharm": {
     "name": "#%% md\n"
    }
   },
   "source": [
    "Допустим, вы работаете в добывающей компании «ГлавРосГосНефть». Нужно решить, где бурить новую скважину.\n",
    "\n",
    "Вам предоставлены пробы нефти в трёх регионах: в каждом 10 000 месторождений, где измерили качество нефти и объём её запасов. Постройте модель машинного обучения, которая поможет определить регион, где добыча принесёт наибольшую прибыль. Проанализируйте возможную прибыль и риски техникой *Bootstrap.*\n",
    "\n",
    "Шаги для выбора локации:\n",
    "\n",
    "- В избранном регионе ищут месторождения, для каждого определяют значения признаков;\n",
    "- Строят модель и оценивают объём запасов;\n",
    "- Выбирают месторождения с самым высокими оценками значений. Количество месторождений зависит от бюджета компании и стоимости разработки одной скважины;\n",
    "- Прибыль равна суммарной прибыли отобранных месторождений.\n",
    "\n",
    "\n",
    "Условия задачи:\n",
    "- Для обучения модели подходит только линейная регрессия (остальные — недостаточно предсказуемые).\n",
    "- При разведке региона исследуют 500 точек, из которых с помощью машинного обучения выбирают 200 лучших для разработки.\n",
    "- Бюджет на разработку скважин в регионе — 10 млрд рублей.\n",
    "- При нынешних ценах один баррель сырья приносит 450 рублей дохода. Доход с каждой единицы продукта составляет 450 тыс. рублей, поскольку объём указан в тысячах баррелей.\n",
    "- После оценки рисков нужно оставить лишь те регионы, в которых вероятность убытков меньше 2.5%. Среди них выбирают регион с наибольшей средней прибылью.\n",
    "- Данные синтетические: детали контрактов и характеристики месторождений не разглашаются."
   ]
  },
  {
   "cell_type": "code",
   "execution_count": 5,
   "metadata": {
    "pycharm": {
     "name": "#%%\n"
    }
   },
   "outputs": [],
   "source": [
    "#импорт библиотек\n",
    "import pandas as pd\n",
    "\n",
    "import numpy as np\n",
    "from matplotlib import pyplot as plt\n",
    "\n",
    "from sklearn.linear_model import LinearRegression\n",
    "from sklearn.metrics import mean_squared_error\n",
    "\n",
    "from sklearn.model_selection import train_test_split\n",
    "from sklearn.preprocessing import StandardScaler\n",
    "from scipy import stats"
   ]
  },
  {
   "cell_type": "markdown",
   "metadata": {
    "pycharm": {
     "name": "#%% md\n"
    }
   },
   "source": [
    "## Загрузка и подготовка данных"
   ]
  },
  {
   "cell_type": "code",
   "execution_count": 6,
   "metadata": {
    "pycharm": {
     "name": "#%%\n"
    }
   },
   "outputs": [],
   "source": [
    "#загружаем данные с георазведками трех регионов\n",
    "try:\n",
    "    reg_0 = pd.read_csv('geo_data_0.csv')\n",
    "    reg_1 = pd.read_csv('geo_data_1.csv')\n",
    "    reg_2 = pd.read_csv('geo_data_2.csv')\n",
    "except FileNotFoundError as e:\n",
    "    print(repr(e))\n",
    "    reg_0 = pd.read_csv('/datasets/geo_data_0.csv')\n",
    "    reg_1 = pd.read_csv('/datasets/geo_data_1.csv')\n",
    "    reg_2 = pd.read_csv('/datasets/geo_data_2.csv')"
   ]
  },
  {
   "cell_type": "code",
   "execution_count": 7,
   "metadata": {
    "pycharm": {
     "name": "#%%\n"
    }
   },
   "outputs": [],
   "source": [
    "#напишем функцию которая будет выводить базовую информацию по датафреймам трех регионов\n",
    "def data_check(df):\n",
    "    print('')\n",
    "    print(df.info())\n",
    "    print(df.head())\n",
    "    print(df.describe())\n",
    "    print('Кол-во дубликатов:',df.duplicated().sum())\n",
    "    print()\n",
    "    print()\n",
    "    df.hist(figsize=(9,9))\n",
    "    plt.show()"
   ]
  },
  {
   "cell_type": "code",
   "execution_count": 8,
   "metadata": {
    "pycharm": {
     "name": "#%%\n"
    }
   },
   "outputs": [],
   "source": [
    "#запишем регионы в лист чтобы пройтись по ним циклом\n",
    "regions_data=[reg_0,reg_1,reg_2]"
   ]
  },
  {
   "cell_type": "code",
   "execution_count": 9,
   "metadata": {
    "pycharm": {
     "name": "#%%\n"
    }
   },
   "outputs": [
    {
     "name": "stdout",
     "output_type": "stream",
     "text": [
      "Регион 0\n",
      "\n",
      "<class 'pandas.core.frame.DataFrame'>\n",
      "RangeIndex: 100000 entries, 0 to 99999\n",
      "Data columns (total 5 columns):\n",
      " #   Column   Non-Null Count   Dtype  \n",
      "---  ------   --------------   -----  \n",
      " 0   id       100000 non-null  object \n",
      " 1   f0       100000 non-null  float64\n",
      " 2   f1       100000 non-null  float64\n",
      " 3   f2       100000 non-null  float64\n",
      " 4   product  100000 non-null  float64\n",
      "dtypes: float64(4), object(1)\n",
      "memory usage: 3.8+ MB\n",
      "None\n",
      "      id        f0        f1        f2     product\n",
      "0  txEyH  0.705745 -0.497823  1.221170  105.280062\n",
      "1  2acmU  1.334711 -0.340164  4.365080   73.037750\n",
      "2  409Wp  1.022732  0.151990  1.419926   85.265647\n",
      "3  iJLyR -0.032172  0.139033  2.978566  168.620776\n",
      "4  Xdl7t  1.988431  0.155413  4.751769  154.036647\n",
      "                  f0             f1             f2        product\n",
      "count  100000.000000  100000.000000  100000.000000  100000.000000\n",
      "mean        0.500419       0.250143       2.502647      92.500000\n",
      "std         0.871832       0.504433       3.248248      44.288691\n",
      "min        -1.408605      -0.848218     -12.088328       0.000000\n",
      "25%        -0.072580      -0.200881       0.287748      56.497507\n",
      "50%         0.502360       0.250252       2.515969      91.849972\n",
      "75%         1.073581       0.700646       4.715088     128.564089\n",
      "max         2.362331       1.343769      16.003790     185.364347\n",
      "Кол-во дубликатов: 0\n",
      "\n",
      "\n"
     ]
    },
    {
     "data": {
      "text/plain": "<Figure size 648x648 with 4 Axes>",
      "image/png": "[encoded data removed]"
     },
     "metadata": {},
     "output_type": "display_data"
    },
    {
     "name": "stdout",
     "output_type": "stream",
     "text": [
      "Регион 1\n",
      "\n",
      "<class 'pandas.core.frame.DataFrame'>\n",
      "RangeIndex: 100000 entries, 0 to 99999\n",
      "Data columns (total 5 columns):\n",
      " #   Column   Non-Null Count   Dtype  \n",
      "---  ------   --------------   -----  \n",
      " 0   id       100000 non-null  object \n",
      " 1   f0       100000 non-null  float64\n",
      " 2   f1       100000 non-null  float64\n",
      " 3   f2       100000 non-null  float64\n",
      " 4   product  100000 non-null  float64\n",
      "dtypes: float64(4), object(1)\n",
      "memory usage: 3.8+ MB\n",
      "None\n",
      "      id         f0         f1        f2     product\n",
      "0  kBEdx -15.001348  -8.276000 -0.005876    3.179103\n",
      "1  62mP7  14.272088  -3.475083  0.999183   26.953261\n",
      "2  vyE1P   6.263187  -5.948386  5.001160  134.766305\n",
      "3  KcrkZ -13.081196 -11.506057  4.999415  137.945408\n",
      "4  AHL4O  12.702195  -8.147433  5.004363  134.766305\n",
      "                  f0             f1             f2        product\n",
      "count  100000.000000  100000.000000  100000.000000  100000.000000\n",
      "mean        1.141296      -4.796579       2.494541      68.825000\n",
      "std         8.965932       5.119872       1.703572      45.944423\n",
      "min       -31.609576     -26.358598      -0.018144       0.000000\n",
      "25%        -6.298551      -8.267985       1.000021      26.953261\n",
      "50%         1.153055      -4.813172       2.011479      57.085625\n",
      "75%         8.621015      -1.332816       3.999904     107.813044\n",
      "max        29.421755      18.734063       5.019721     137.945408\n",
      "Кол-во дубликатов: 0\n",
      "\n",
      "\n"
     ]
    },
    {
     "data": {
      "text/plain": "<Figure size 648x648 with 4 Axes>",
      "image/png": "[encoded data removed]"
     },
     "metadata": {},
     "output_type": "display_data"
    },
    {
     "name": "stdout",
     "output_type": "stream",
     "text": [
      "Регион 2\n",
      "\n",
      "<class 'pandas.core.frame.DataFrame'>\n",
      "RangeIndex: 100000 entries, 0 to 99999\n",
      "Data columns (total 5 columns):\n",
      " #   Column   Non-Null Count   Dtype  \n",
      "---  ------   --------------   -----  \n",
      " 0   id       100000 non-null  object \n",
      " 1   f0       100000 non-null  float64\n",
      " 2   f1       100000 non-null  float64\n",
      " 3   f2       100000 non-null  float64\n",
      " 4   product  100000 non-null  float64\n",
      "dtypes: float64(4), object(1)\n",
      "memory usage: 3.8+ MB\n",
      "None\n",
      "      id        f0        f1        f2     product\n",
      "0  fwXo0 -1.146987  0.963328 -0.828965   27.758673\n",
      "1  WJtFt  0.262778  0.269839 -2.530187   56.069697\n",
      "2  ovLUW  0.194587  0.289035 -5.586433   62.871910\n",
      "3  q6cA6  2.236060 -0.553760  0.930038  114.572842\n",
      "4  WPMUX -0.515993  1.716266  5.899011  149.600746\n",
      "                  f0             f1             f2        product\n",
      "count  100000.000000  100000.000000  100000.000000  100000.000000\n",
      "mean        0.002023      -0.002081       2.495128      95.000000\n",
      "std         1.732045       1.730417       3.473445      44.749921\n",
      "min        -8.760004      -7.084020     -11.970335       0.000000\n",
      "25%        -1.162288      -1.174820       0.130359      59.450441\n",
      "50%         0.009424      -0.009482       2.484236      94.925613\n",
      "75%         1.158535       1.163678       4.858794     130.595027\n",
      "max         7.238262       7.844801      16.739402     190.029838\n",
      "Кол-во дубликатов: 0\n",
      "\n",
      "\n"
     ]
    },
    {
     "data": {
      "text/plain": "<Figure size 648x648 with 4 Axes>",
      "image/png": "[encoded data removed]"
     },
     "metadata": {},
     "output_type": "display_data"
    }
   ],
   "source": [
    "n=0\n",
    "for i in regions_data:\n",
    "    print('Регион',n)\n",
    "    data_check(i)\n",
    "    n+=1"
   ]
  },
  {
   "cell_type": "markdown",
   "metadata": {
    "pycharm": {
     "name": "#%% md\n"
    }
   },
   "source": [
    "Вывод: Данные в порядке, типы данных соответствуют величинам, пропуски и дубликаты отсутствуют.\n",
    "В регионе_1 отличающиеся от других распределение параметра f2 и очень равномерное распределение добычи по скаважинам региона, при этом в регионе есть две небольшие под-области с очень высокими и очень низкими запасами.\n"
   ]
  },
  {
   "cell_type": "markdown",
   "metadata": {
    "pycharm": {
     "name": "#%% md\n"
    }
   },
   "source": [
    "Для дальнейшей работы с алгоритмами ML нам не потребуется признак 'id'.\n",
    "Удалим его:"
   ]
  },
  {
   "cell_type": "code",
   "execution_count": 13,
   "metadata": {
    "pycharm": {
     "name": "#%%\n"
    }
   },
   "outputs": [],
   "source": [
    "reg_0 = reg_0.drop('id',axis=1)\n",
    "reg_1 = reg_1.drop('id',axis=1)\n",
    "reg_2 = reg_2.drop('id',axis=1)"
   ]
  },
  {
   "cell_type": "markdown",
   "metadata": {
    "pycharm": {
     "name": "#%% md\n"
    }
   },
   "source": [
    "Разобьем данные трех регионов на train и valid в соотношении 75:25.\n",
    "Далее эти данные разобьем на Y(целевой признак - 'product' или объем запасов в скважине) и X признаки (f0,f1,f2)"
   ]
  },
  {
   "cell_type": "markdown",
   "metadata": {
    "pycharm": {
     "name": "#%% md\n"
    }
   },
   "source": [
    "## Обучение и проверка модели"
   ]
  },
  {
   "cell_type": "code",
   "execution_count": 14,
   "outputs": [],
   "source": [
    "from sklearn.pipeline import  make_pipeline"
   ],
   "metadata": {
    "collapsed": false,
    "pycharm": {
     "name": "#%%\n"
    }
   }
  },
  {
   "cell_type": "code",
   "execution_count": 15,
   "outputs": [],
   "source": [
    "def region_model_train(r):\n",
    "    X_train, X_valid, y_train, y_valid = train_test_split(r.drop('product',axis=1), r['product'], test_size=0.25, random_state=2022) #разбиваем на train и valid\n",
    "    pipe = make_pipeline(StandardScaler(), LinearRegression()) # создадим пайп из StandardScaler и LR\n",
    "    pipe.fit(X_train, y_train)  # обучаем на train выборке\n",
    "    predict = pipe.predict(X_valid)  # делаем предсказания по valid признакам\n",
    "    print(\"Средний запас сырья скважины (предсказанный):\", predict.mean())\n",
    "    print(\"RMSE модели\", mean_squared_error(y_valid, predict, squared=False) )\n",
    "\n",
    "    return pipe, X_valid, y_valid, predict"
   ],
   "metadata": {
    "collapsed": false,
    "pycharm": {
     "name": "#%%\n"
    }
   }
  },
  {
   "cell_type": "code",
   "execution_count": 16,
   "outputs": [
    {
     "name": "stdout",
     "output_type": "stream",
     "text": [
      "Регион_0\n",
      "Средний запас сырья скважины (предсказанный): 92.27940812035393\n",
      "RMSE модели 37.71605325398609\n"
     ]
    }
   ],
   "source": [
    "print('Регион_0')\n",
    "model_r0, r0_valid_x, r0_valid_y, r0_y_predict = region_model_train(reg_0)"
   ],
   "metadata": {
    "collapsed": false,
    "pycharm": {
     "name": "#%%\n"
    }
   }
  },
  {
   "cell_type": "code",
   "execution_count": 35,
   "outputs": [
    {
     "data": {
      "text/plain": "array([116.04720614,  40.62660021,  92.17277165, ..., 120.91409286,\n        95.42458983,  97.4448408 ])"
     },
     "execution_count": 35,
     "metadata": {},
     "output_type": "execute_result"
    }
   ],
   "source": [
    "r0_y_predict"
   ],
   "metadata": {
    "collapsed": false,
    "pycharm": {
     "name": "#%%\n"
    }
   }
  },
  {
   "cell_type": "code",
   "execution_count": 34,
   "outputs": [
    {
     "data": {
      "text/plain": "59286     97.073741\n71695     22.801890\n70788    159.562003\n48299     76.784079\n16144     16.736364\n            ...    \n15622    170.076702\n2825      75.109301\n513      160.019337\n13971     88.899014\n58687    104.340855\nName: product, Length: 25000, dtype: float64"
     },
     "execution_count": 34,
     "metadata": {},
     "output_type": "execute_result"
    }
   ],
   "source": [
    "r0_valid_y"
   ],
   "metadata": {
    "collapsed": false,
    "pycharm": {
     "name": "#%%\n"
    }
   }
  },
  {
   "cell_type": "code",
   "execution_count": 42,
   "outputs": [],
   "source": [
    "a = np.stack((r0_valid_y,r0_y_predict),axis=-1)\n",
    "idx =  np.argsort(a[:,1])"
   ],
   "metadata": {
    "collapsed": false,
    "pycharm": {
     "name": "#%%\n"
    }
   }
  },
  {
   "cell_type": "code",
   "execution_count": 43,
   "outputs": [
    {
     "data": {
      "text/plain": "array([[  1.54788573,  -2.70845377],\n       [  4.43163909,   2.4747658 ],\n       [ 11.01869165,   4.54666248],\n       ...,\n       [164.82127804, 173.31505047],\n       [145.10689342, 174.04833583],\n       [ 96.89358065, 175.95931102]])"
     },
     "execution_count": 43,
     "metadata": {},
     "output_type": "execute_result"
    }
   ],
   "source": [
    "a[idx,:]"
   ],
   "metadata": {
    "collapsed": false,
    "pycharm": {
     "name": "#%%\n"
    }
   }
  },
  {
   "cell_type": "code",
   "execution_count": 44,
   "outputs": [
    {
     "data": {
      "text/plain": "array([182.04367351, 183.37192128, 152.89833652, 117.50847081,\n       184.66057615, 146.85998915, 130.98568123, 164.82127804,\n       145.10689342,  96.89358065])"
     },
     "execution_count": 44,
     "metadata": {},
     "output_type": "execute_result"
    }
   ],
   "source": [
    "a[:,0][idx][-10:]"
   ],
   "metadata": {
    "collapsed": false,
    "pycharm": {
     "name": "#%%\n"
    }
   }
  },
  {
   "cell_type": "code",
   "execution_count": 17,
   "outputs": [
    {
     "name": "stdout",
     "output_type": "stream",
     "text": [
      "Регион_1\n",
      "Средний запас сырья скважины (предсказанный): 68.95875841289144\n",
      "RMSE модели 0.8868593841814516\n"
     ]
    }
   ],
   "source": [
    "print('Регион_1')\n",
    "model_r1, r1_valid_x, r1_valid_y, r1_y_predict = region_model_train(reg_1)"
   ],
   "metadata": {
    "collapsed": false,
    "pycharm": {
     "name": "#%%\n"
    }
   }
  },
  {
   "cell_type": "code",
   "execution_count": 18,
   "outputs": [
    {
     "name": "stdout",
     "output_type": "stream",
     "text": [
      "Регион_2\n",
      "Средний запас сырья скважины (предсказанный): 94.96963599907178\n",
      "RMSE модели 39.79701468825408\n"
     ]
    }
   ],
   "source": [
    "print('Регион_2')\n",
    "model_r2, r2_valid_x, r2_valid_y, r2_y_predict = region_model_train(reg_2)"
   ],
   "metadata": {
    "collapsed": false,
    "pycharm": {
     "name": "#%%\n"
    }
   }
  },
  {
   "cell_type": "markdown",
   "metadata": {
    "pycharm": {
     "name": "#%% md\n"
    }
   },
   "source": [
    "Вывод: Самые точные предсказания получилось сделать для Региона - 1 (RMSE  меньше единицы), но при этом в регионе самый низкий запас сырья на скважину если брать среднее.\n",
    "\n",
    "Регионы 0 и 2 в целом похожи. У Региона 2 немного выше средний предсказанный запас сырья но при этом на ту же величину выше ошибка RMSE.\n"
   ]
  },
  {
   "cell_type": "markdown",
   "metadata": {
    "pycharm": {
     "name": "#%% md\n"
    }
   },
   "source": [
    "## Подготовка к расчёту прибыли"
   ]
  },
  {
   "cell_type": "code",
   "execution_count": 19,
   "metadata": {
    "pycharm": {
     "name": "#%%\n"
    }
   },
   "outputs": [],
   "source": [
    "#обозначим переменные для расчета прибыли\n",
    "COST = 10**10 #бюджет 10 млрд. рублей\n",
    "REVENUE_PER_PRODUCT = 450000 #выручка c продажи 1 тысячи баррелей\n",
    "NUM_WELLS_DEPLOY = 200 # количество скважин для разработки\n",
    "NUM_WELLS_DISCOVERY = 500 # количество скважин для исследования"
   ]
  },
  {
   "cell_type": "code",
   "execution_count": 20,
   "metadata": {
    "pycharm": {
     "name": "#%%\n"
    }
   },
   "outputs": [
    {
     "name": "stdout",
     "output_type": "stream",
     "text": [
      "Необходимые суммарные запасы скважин для покрытия расходов на разведку 22222.222222222223\n"
     ]
    }
   ],
   "source": [
    "#найдем количество тысяч баррелей при продажи которых разработка полностью окупается\n",
    "req_product = COST / REVENUE_PER_PRODUCT\n",
    "print('Необходимые суммарные запасы скважин для покрытия расходов на разведку', req_product)"
   ]
  },
  {
   "cell_type": "code",
   "execution_count": 21,
   "metadata": {
    "pycharm": {
     "name": "#%%\n"
    }
   },
   "outputs": [
    {
     "name": "stdout",
     "output_type": "stream",
     "text": [
      "Необходимый средний запас в скважине для покрытия расходов на разведку 111.11111111111111\n"
     ]
    }
   ],
   "source": [
    "#найдем необходимый запас в тысячах баррелей на одну скважину, чтобы понять сколько в среднем должно быть запасов в скважине для безубыточного вложения в разведку 200 скважин\n",
    "product_per_well = req_product / NUM_WELLS_DEPLOY\n",
    "print('Необходимый средний запас в скважине для покрытия расходов на разведку',product_per_well)"
   ]
  },
  {
   "cell_type": "markdown",
   "metadata": {
    "pycharm": {
     "name": "#%% md\n"
    }
   },
   "source": [
    "Для безубыточной разработки средний запас скважины должен быть выше 111.1 тысяч баррелей.\n",
    "Что превышает средний запас скважин во всех трех регионов."
   ]
  },
  {
   "cell_type": "markdown",
   "metadata": {
    "pycharm": {
     "name": "#%% md\n"
    }
   },
   "source": [
    "## Расчёт прибыли и рисков"
   ]
  },
  {
   "cell_type": "markdown",
   "metadata": {
    "pycharm": {
     "name": "#%% md\n"
    }
   },
   "source": [
    "В данном разделе будем симулировать выбор скважин по данным разведки (получены признаки f0,f1,f2) с помощью  модели которую мы обучили, и считать какую прибыль мы бы получили по факту при таком выборе.\n",
    "\n",
    "Иными словами, будем выбирать скважины используя ML, а проверять себя будем используя реальные данные по запасам на основе которых рассчитаем прибыль (для выбранных нами скважин).\n"
   ]
  },
  {
   "cell_type": "code",
   "execution_count": 45,
   "metadata": {
    "pycharm": {
     "name": "#%%\n"
    }
   },
   "outputs": [],
   "source": [
    "#напишем функцию расчета прибыли в млн.руб\n",
    "#в качестве параметров функции: предсказания по добыче (тыс баррелей), истинная добыча (тыс баррелей), кол-во скважин, выручка с тыс. баррелей, бюджет на разработку)\n",
    "\n",
    "def profit(y_predict, y_true, count, revenue_per_product, cost):\n",
    "\n",
    "    y = np.stack((y_true,y_predict),axis=-1) #объединим в один массив предсказания и добычу\n",
    "    idx =  np.argsort(y[:,1]) #отсортируем данные предсказаний по добыче\n",
    "\n",
    "    #среди истинных значений добычи выберем те скважины (в количестве  count), которые попали в топ-\"count\" по добыче на основе предсказанных данных  (используя индексы)\n",
    "\n",
    "    true_selected=y[:,0][idx][-count:]\n",
    "    #по выбранным скважинам рассчитаем выручку в млрд рублей на основе реальной добычи\n",
    "\n",
    "    return (sum(true_selected*revenue_per_product)-cost)/10**6\n",
    "\n",
    "\n"
   ]
  },
  {
   "cell_type": "markdown",
   "metadata": {
    "pycharm": {
     "name": "#%% md\n"
    }
   },
   "source": [
    "Для начала рассмотрим ситуацию в которой будто бы нам известны признаки всех 25000 скважин (которые у нас есть в валидационной выборке).\n",
    "Для этих 25000 у нас уже есть предсказания по добыче. Из 25000 мы выберем 200 лучших скважин (по предсказаниям добычи) и посчитаем какая бы у нас оказалась прибыль если бы именно эти 200 скважин разработали."
   ]
  },
  {
   "cell_type": "markdown",
   "metadata": {
    "pycharm": {
     "name": "#%% md\n"
    }
   },
   "source": [
    "Выручка Региона_0:"
   ]
  },
  {
   "cell_type": "code",
   "execution_count": 46,
   "metadata": {
    "pycharm": {
     "name": "#%%\n"
    }
   },
   "outputs": [
    {
     "data": {
      "text/plain": "3268.8887239093665"
     },
     "execution_count": 46,
     "metadata": {},
     "output_type": "execute_result"
    }
   ],
   "source": [
    "profit(r0_y_predict,r0_valid_y,NUM_WELLS_DEPLOY,REVENUE_PER_PRODUCT, COST)"
   ]
  },
  {
   "cell_type": "markdown",
   "metadata": {
    "pycharm": {
     "name": "#%% md\n"
    }
   },
   "source": [
    "Выручка Региона_1:"
   ]
  },
  {
   "cell_type": "code",
   "execution_count": 48,
   "metadata": {
    "pycharm": {
     "name": "#%%\n"
    }
   },
   "outputs": [
    {
     "data": {
      "text/plain": "2415.0866966815624"
     },
     "execution_count": 48,
     "metadata": {},
     "output_type": "execute_result"
    }
   ],
   "source": [
    "profit(r1_y_predict,r1_valid_y,NUM_WELLS_DEPLOY,REVENUE_PER_PRODUCT, COST)"
   ]
  },
  {
   "cell_type": "markdown",
   "metadata": {
    "pycharm": {
     "name": "#%% md\n"
    }
   },
   "source": [
    "Выручка Региона_2"
   ]
  },
  {
   "cell_type": "code",
   "execution_count": 49,
   "metadata": {
    "pycharm": {
     "name": "#%%\n"
    }
   },
   "outputs": [
    {
     "data": {
      "text/plain": "2498.8484288057175"
     },
     "execution_count": 49,
     "metadata": {},
     "output_type": "execute_result"
    }
   ],
   "source": [
    "profit(r2_y_predict,r2_valid_y,NUM_WELLS_DEPLOY,REVENUE_PER_PRODUCT, COST)"
   ]
  },
  {
   "cell_type": "markdown",
   "metadata": {
    "pycharm": {
     "name": "#%% md\n"
    }
   },
   "source": [
    "Вывод: Здорово, выручка по всем трём регионам почти 2.5 млрд рублей, получается наши модели работают, ведь в среднем каждая из скважин этих трех регионов ниже по запасам чем целевое значение 111.1 баррелей."
   ]
  },
  {
   "cell_type": "markdown",
   "metadata": {
    "pycharm": {
     "name": "#%% md\n"
    }
   },
   "source": [
    "Но реальная жизнь сурова, и по факту разведать мы можем не 25000 скважин, а только 500. Поэтому будем имитировать ситуацию когда мы выбираем 500 случайных точек в регионе, получаем для них данные их исследования(каротаж), в виде признаков, делаем предсказания по добыче, выбираем 200 лучших и смотрим какую прибыль мы бы получили сделав такой выбор.\n",
    "\n",
    "Провернем такую симуляцию 1000 раз (техника bootstrap)"
   ]
  },
  {
   "cell_type": "code",
   "execution_count": 54,
   "metadata": {
    "pycharm": {
     "name": "#%%\n"
    }
   },
   "outputs": [],
   "source": [
    "#напишем bootstrap функцию которая на вход будет принимать валидационные признаки(x) и валидационный таргет(y), кол-во итераций, и модель ML\n",
    "def bootstrap_profit(y,x,iter,mod):\n",
    "    revenue_list=[]\n",
    "    state = np.random.RandomState(2022)\n",
    "    for i in range(0,iter): #делаем цикл на симуляцию расчета прибыли по топ200 из 500 случайных\n",
    "        #выбираем 500 случайных скважин из валид. выборки\n",
    "        sample_y = y.sample(NUM_WELLS_DISCOVERY, random_state=state) #выбираем 500 случайных таргетов\n",
    "        sample_x = x.loc[sample_y.index] #выбираем соответствующие выбранным таргетам признаки\n",
    "        sample_y.reset_index(drop=True, inplace=True) #делаем ресет индекса для корректной работы функии revenue\n",
    "        predict = mod.predict(sample_x) #делаем предсказания\n",
    "        #отправляем целевой признак, предсказания и прочие параметры для расчета прибыли\n",
    "        #записываем прибыль итерации в список\n",
    "        revenue_list.append(profit(predict, sample_y,NUM_WELLS_DEPLOY,REVENUE_PER_PRODUCT, COST))\n",
    "\n",
    "    revenue_list = pd.Series(revenue_list) #преобразуем список в Series для дальнейшей работы с ним\n",
    "    return revenue_list\n"
   ]
  },
  {
   "cell_type": "markdown",
   "metadata": {
    "pycharm": {
     "name": "#%% md\n"
    }
   },
   "source": [
    "Запишем результаты bootstrap для трех регионов в три соответствующие переменные:\n",
    "reg_0_revenue\n",
    "reg_1_revenue\n",
    "reg_2_revenue"
   ]
  },
  {
   "cell_type": "code",
   "execution_count": 55,
   "metadata": {
    "pycharm": {
     "name": "#%%\n"
    }
   },
   "outputs": [],
   "source": [
    "reg_0_revenue = bootstrap_profit(r0_valid_y,r0_valid_x,1000, model_r0)"
   ]
  },
  {
   "cell_type": "code",
   "execution_count": 56,
   "metadata": {
    "pycharm": {
     "name": "#%%\n"
    }
   },
   "outputs": [],
   "source": [
    "reg_1_revenue = bootstrap_profit(r1_valid_y,r1_valid_x,1000, model_r1)"
   ]
  },
  {
   "cell_type": "code",
   "execution_count": 57,
   "metadata": {
    "pycharm": {
     "name": "#%%\n"
    }
   },
   "outputs": [],
   "source": [
    "reg_2_revenue = bootstrap_profit(r2_valid_y,r2_valid_x,1000, model_r2)"
   ]
  },
  {
   "cell_type": "markdown",
   "metadata": {
    "pycharm": {
     "name": "#%% md\n"
    }
   },
   "source": [
    "Напишем функцию для анализа прибыли региона которая на вход будет принимать массив значений прибыли итераций bootstrap, а на выходе выдавать интересующие нас параметры региона:\n",
    "* Средняя выручка\n",
    "* 95% доверительный интервал\n",
    "* Риск убытков"
   ]
  },
  {
   "cell_type": "code",
   "execution_count": 58,
   "metadata": {
    "pycharm": {
     "name": "#%%\n"
    }
   },
   "outputs": [],
   "source": [
    "def profit_analysis(profit_array):\n",
    "    low=profit_array.quantile(0.025) #найдем нижнюю границу доверительного диапазона\n",
    "    high=profit_array.quantile(0.975) #найдем верхнюю границу доверительного диапазона\n",
    "    print('Средняя выручка в итерациях bootstrap:', profit_array.mean())\n",
    "    print('95% доверительный интервал прибыли:','(', low,',',high,')')\n",
    "    neg_profit=profit_array.loc[profit_array < 0].max() #найдем значение максимальной отрицательной выручки\n",
    "    risk = stats.percentileofscore(profit_array,neg_profit) #посчитаем для этого значения его персентиль\n",
    "    print('Риск убытков',risk)"
   ]
  },
  {
   "cell_type": "markdown",
   "metadata": {
    "pycharm": {
     "name": "#%% md\n"
    }
   },
   "source": [
    "Анализ Региона_0:"
   ]
  },
  {
   "cell_type": "code",
   "execution_count": 59,
   "metadata": {
    "pycharm": {
     "name": "#%%\n"
    }
   },
   "outputs": [
    {
     "name": "stdout",
     "output_type": "stream",
     "text": [
      "Средняя выручка в итерациях bootstrap: 381.7344312340613\n",
      "95% доверительный интервал прибыли: ( -127.46769449789552 , 888.8094875103241 )\n",
      "Риск убытков 6.4\n"
     ]
    }
   ],
   "source": [
    "profit_analysis(reg_0_revenue)"
   ]
  },
  {
   "cell_type": "markdown",
   "metadata": {
    "pycharm": {
     "name": "#%% md\n"
    }
   },
   "source": [
    "Анализ Региона_1:"
   ]
  },
  {
   "cell_type": "code",
   "execution_count": 60,
   "metadata": {
    "pycharm": {
     "name": "#%%\n"
    }
   },
   "outputs": [
    {
     "name": "stdout",
     "output_type": "stream",
     "text": [
      "Средняя выручка в итерациях bootstrap: 468.0270328452864\n",
      "95% доверительный интервал прибыли: ( 46.74874471915121 , 876.6080336317467 )\n",
      "Риск убытков 1.4\n"
     ]
    }
   ],
   "source": [
    "profit_analysis(reg_1_revenue)"
   ]
  },
  {
   "cell_type": "markdown",
   "metadata": {
    "pycharm": {
     "name": "#%% md\n"
    }
   },
   "source": [
    "Анализ Региона_2"
   ]
  },
  {
   "cell_type": "code",
   "execution_count": 61,
   "metadata": {
    "pycharm": {
     "name": "#%%\n"
    }
   },
   "outputs": [
    {
     "name": "stdout",
     "output_type": "stream",
     "text": [
      "Средняя выручка в итерациях bootstrap: 365.8259743948694\n",
      "95% доверительный интервал прибыли: ( -146.2383501473024 , 874.1446451395058 )\n",
      "Риск убытков 8.4\n"
     ]
    }
   ],
   "source": [
    "profit_analysis(reg_2_revenue)"
   ]
  },
  {
   "cell_type": "markdown",
   "metadata": {
    "pycharm": {
     "name": "#%% md\n"
    }
   },
   "source": [
    "К сожалению, риск убытков ниже целевых 2.5% только для Региона_1, для которого у нас получилась супер-точная модель ML. Несмотря на то, что в данном регионе в среднем запасы скважины значительно ниже целевых 111.1, при выборе используя модель с вероятностью в 98.6% можно получить прибыль.\n",
    "\n",
    "К добыче рекомендован Регион_1.\n",
    "\n",
    "Хотя, конечно, очевидно, что имея немного более точную модель предсказаний добычи для Регионов 0 и 2, мы бы сделали другой вывод\n"
   ]
  },
  {
   "cell_type": "markdown",
   "metadata": {
    "pycharm": {
     "name": "#%% md\n"
    }
   },
   "source": [
    "## Чек-лист готовности проекта"
   ]
  },
  {
   "cell_type": "markdown",
   "metadata": {
    "pycharm": {
     "name": "#%% md\n"
    }
   },
   "source": [
    "- [x]  Jupyter Notebook открыт\n",
    "- [x]  Весь код выполняется без ошибок\n",
    "- [x]  Ячейки с кодом расположены в порядке исполнения\n",
    "- [x]  Выполнен шаг 1: данные подготовлены\n",
    "- [x]  Выполнен шаг 2: модели обучены и проверены\n",
    "    - [x]  Данные корректно разбиты на обучающую и валидационную выборки\n",
    "    - [x]  Модели обучены, предсказания сделаны\n",
    "    - [x]  Предсказания и правильные ответы на валидационной выборке сохранены\n",
    "    - [x]  На экране напечатаны результаты\n",
    "    - [x]  Сделаны выводы\n",
    "- [x]  Выполнен шаг 3: проведена подготовка к расчёту прибыли\n",
    "    - [x]  Для всех ключевых значений созданы константы Python\n",
    "    - [x]  Посчитано минимальное среднее количество продукта в месторождениях региона, достаточное для разработки\n",
    "    - [x]  По предыдущему пункту сделаны выводы\n",
    "    - [x]  Написана функция расчёта прибыли\n",
    "- [x]  Выполнен шаг 4: посчитаны риски и прибыль\n",
    "    - [x]  Проведена процедура *Bootstrap*\n",
    "    - [x]  Все параметры бутстрепа соответствуют условию\n",
    "    - [x]  Найдены все нужные величины\n",
    "    - [x]  Предложен регион для разработки месторождения\n",
    "    - [x]  Выбор региона обоснован"
   ]
  }
 ],
 "metadata": {
  "kernelspec": {
   "display_name": "Python 3 (ipykernel)",
   "language": "python",
   "name": "python3"
  },
  "language_info": {
   "codemirror_mode": {
    "name": "ipython",
    "version": 3
   },
   "file_extension": ".py",
   "mimetype": "text/x-python",
   "name": "python",
   "nbconvert_exporter": "python",
   "pygments_lexer": "ipython3",
   "version": "3.9.5"
  },
  "toc": {
   "base_numbering": 1,
   "nav_menu": {},
   "number_sections": true,
   "sideBar": true,
   "skip_h1_title": true,
   "title_cell": "Table of Contents",
   "title_sidebar": "Contents",
   "toc_cell": false,
   "toc_position": {},
   "toc_section_display": true,
   "toc_window_display": false
  }
 },
 "nbformat": 4,
 "nbformat_minor": 2
}